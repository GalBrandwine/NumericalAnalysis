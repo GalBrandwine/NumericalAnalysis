{
 "cells": [
  {
   "cell_type": "markdown",
   "metadata": {},
   "source": [
    "# The gauss method\n",
    "An algebra reminder"
   ]
  },
  {
   "cell_type": "markdown",
   "metadata": {},
   "source": [
    "1. matrice - intruduction to solution linear equations system.\n",
    "2. Liner equations system - into.\n",
    "3. Gauss method"
   ]
  },
  {
   "cell_type": "code",
   "execution_count": 1,
   "metadata": {},
   "outputs": [
    {
     "name": "stdout",
     "output_type": "stream",
     "text": [
      "The matrix a:\n",
      "[[1 2]\n",
      " [3 4]]\n"
     ]
    }
   ],
   "source": [
    "import numpy as np\n",
    "a = np.matrix([[1, 2], [3, 4]])\n",
    "print(\"The matrix a:\")\n",
    "print(a)"
   ]
  },
  {
   "cell_type": "markdown",
   "metadata": {},
   "source": [
    "### 1. matrice - intruduction to solution linear equations system.\n",
    "\n",
    "<b>Some elementric actions on matrice rows.</b>\n",
    "<br>\n",
    "Let $R_i$ will be the i'th row of the matrice.\n",
    "<br>\n",
    "<br>\n",
    "<b>Definition:</b>\n",
    "<br>\n",
    "the actions below are called <b>elementery actions</b> in the matrice row:\n",
    "1. $ R_i \\leftrightarrow R_j$ replacing the i'th row with j'th."
   ]
  },
  {
   "cell_type": "code",
   "execution_count": 2,
   "metadata": {
    "hide_input": false
   },
   "outputs": [
    {
     "name": "stdout",
     "output_type": "stream",
     "text": [
      "\n",
      "Replacing the i'th row with j'th:\n",
      "[[3 4]\n",
      " [3 4]]\n"
     ]
    }
   ],
   "source": [
    "print(\"\\nReplacing the i'th row with j'th:\")\n",
    "b = np.array(a, copy=True)\n",
    "b[0] = b[1]\n",
    "\n",
    "print(b)"
   ]
  },
  {
   "cell_type": "markdown",
   "metadata": {
    "hide_input": true
   },
   "source": [
    "2. $ R_i \\rightarrow c \\cdot R_j, c \\neq 0$ multiply i'th row in constant \"scalar\".\n"
   ]
  },
  {
   "cell_type": "code",
   "execution_count": 3,
   "metadata": {},
   "outputs": [
    {
     "name": "stdout",
     "output_type": "stream",
     "text": [
      "\n",
      "multiply i'th row in constant 'scalar':\n",
      "[[4 8]\n",
      " [3 4]]\n"
     ]
    }
   ],
   "source": [
    "print(\"\\nmultiply i'th row in constant 'scalar':\")\n",
    "scalar = 4\n",
    "c = np.array(a, copy=True)\n",
    "\n",
    "c[0] = 4*c[0]\n",
    "\n",
    "print(c)"
   ]
  },
  {
   "cell_type": "markdown",
   "metadata": {},
   "source": [
    "3. $R_i \\rightarrow R_i+ c\\cdot R_j, i \\neq j$ Add $c$ times j'th row to i'th row."
   ]
  },
  {
   "cell_type": "markdown",
   "metadata": {},
   "source": [
    "# Analysis/Modeling\n",
    "Do work here"
   ]
  },
  {
   "cell_type": "markdown",
   "metadata": {},
   "source": [
    "# Results\n",
    "Show graphs and stats here"
   ]
  },
  {
   "cell_type": "markdown",
   "metadata": {},
   "source": [
    "# Conclusions and Next Steps\n",
    "Summarize findings here"
   ]
  },
  {
   "cell_type": "code",
   "execution_count": null,
   "metadata": {},
   "outputs": [],
   "source": []
  }
 ],
 "metadata": {
  "hide_input": true,
  "kernelspec": {
   "display_name": "venv",
   "language": "python",
   "name": "venv"
  },
  "language_info": {
   "codemirror_mode": {
    "name": "ipython",
    "version": 3
   },
   "file_extension": ".py",
   "mimetype": "text/x-python",
   "name": "python",
   "nbconvert_exporter": "python",
   "pygments_lexer": "ipython3",
   "version": "3.6.8"
  }
 },
 "nbformat": 4,
 "nbformat_minor": 2
}
