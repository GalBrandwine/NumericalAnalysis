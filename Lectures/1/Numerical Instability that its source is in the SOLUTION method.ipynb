{
 "cells": [
  {
   "cell_type": "markdown",
   "metadata": {},
   "source": [
    "# Numerical Instability that its source is in the SOLUTION method"
   ]
  },
  {
   "cell_type": "markdown",
   "metadata": {},
   "source": [
    "### Question:\n",
    "We will want to approximate the solution of this specific integral:\n",
    "\n",
    "$$I=\\int_0^1 x^7e^{x-1} \\, dx $$"
   ]
  },
  {
   "cell_type": "markdown",
   "metadata": {},
   "source": [
    "### Solution:\n",
    "1. <b>Analytic calculation:</b>\n",
    "    * can be computed directly by integration in parts integrations, BUT will need to repeat that 7 times...\n",
    "    * One other simple way to calculate the integral above its via a defining recursic equation to calculate the integral:\n",
    "\n",
    "$$\n",
    "I=\\int_0^1 x^ne^{x-1} \\,dx,\n",
    "n=0,1,2,\\ldots\n",
    "$$\n",
    "\n",
    "By one <b>parts integration</b> will recieve:\n",
    "$$\n",
    "I=\\int_0^1 x^ne^{x-1} \\,dx = \n",
    "    \\Bigg[ \\begin{align*} \n",
    "        u=x^n \\quad v'=e^{x-1}\\\\ \n",
    "        u'=nx^{n-1} \\quad v=e^{x-1}\n",
    "    \\end{align*} \n",
    "\\Bigg] =\n",
    "\\underbrace{x^n \\cdot e^{x-1}\\Bigr|_{0}^{1}}_\\text{=1} -n \\cdot\n",
    "\\underbrace{\\int_0^1 x^ne^{x-1} \\,dx}_\\text{$I_{n-1}$} = \n",
    "1-n \\cdot I_{n-1}\n",
    "$$\n",
    "\n",
    "So we have got the next recursic exuation:\n",
    "$$\n",
    "I_n = 1-n \\cdot I_{n-1}, \\quad n=0,1,2,\\ldots\n",
    "$$\n",
    "\n",
    "\n",
    "Initialy condition $I_0$ can be calculated directly from: $I_0 = \\int_0^1 e^{x-1}dx = e^{x-1}\\Bigr|_{0}^{1} = 1-\\frac{1}{e}$"
   ]
  },
  {
   "cell_type": "markdown",
   "metadata": {},
   "source": [
    "The desired integral is infact $I_7$ in the defined recursive series hence by applying the recursive process 7 times will get:\n",
    "$$\n",
    "I_0 = 1 - \\frac{1}{e}\n",
    "$$\n"
   ]
  },
  {
   "cell_type": "code",
   "execution_count": 148,
   "metadata": {
    "hide_input": true
   },
   "outputs": [
    {
     "name": "stdout",
     "output_type": "stream",
     "text": [
      "I_0:                0.6321205588285577\n",
      "I*_0_mentisa_4:     0.6321\n"
     ]
    }
   ],
   "source": [
    "import numpy as np\n",
    "numerical_result_ittr_0 = 1 - (1/np.exp(1))\n",
    "mentisa_4_result_ittr_0 = round(numerical_result_ittr_0,4)\n",
    "\n",
    "print (\"I_0: {:33}\".format(numerical_result_ittr_0))\n",
    "print(\"I*_0_mentisa_4: {:10.4f}\".format(mentisa_4_result_ittr_0))"
   ]
  },
  {
   "cell_type": "markdown",
   "metadata": {},
   "source": [
    "$$\n",
    "I_1 = 1- I_0 = \\frac{1}{e}\\\\\n",
    "$$"
   ]
  },
  {
   "cell_type": "code",
   "execution_count": 149,
   "metadata": {},
   "outputs": [
    {
     "name": "stdout",
     "output_type": "stream",
     "text": [
      "I*_1:                    0.36787944117144233\n",
      "I_1_round_mentisa_4:     0.3679\n"
     ]
    }
   ],
   "source": [
    "numerical_result_ittr_1 = 1 - numerical_result_ittr_0\n",
    "\n",
    "mentisa_4_result_ittr_1 = 1 - mentisa_4_result_ittr_0\n",
    "mentisa_4_result_ittr_1 = round(mentisa_4_result_ittr_1,4)\n",
    "\n",
    "print (\"I*_1: {:38}\".format(numerical_result_ittr_1))\n",
    "print(\"I_1_round_mentisa_4: {:10.4f}\".format(mentisa_4_result_ittr_1))"
   ]
  },
  {
   "cell_type": "markdown",
   "metadata": {},
   "source": [
    "$$\n",
    "I_2 = 1- 2 \\cdot I_1 = 1 - \\frac{2}{e}\n",
    "$$"
   ]
  },
  {
   "cell_type": "code",
   "execution_count": 150,
   "metadata": {},
   "outputs": [
    {
     "name": "stdout",
     "output_type": "stream",
     "text": [
      "I_2:                      0.26424111765711533\n",
      "I*_2_round_mentisa_4:     0.2642\n"
     ]
    }
   ],
   "source": [
    "numerical_result_ittr_2 = 1 - 2*numerical_result_ittr_1\n",
    "\n",
    "mentisa_4_result_ittr_2 = 1 - 2*mentisa_4_result_ittr_1\n",
    "mentisa_4_result_ittr_2 = round(numerical_result_ittr_2,4)\n",
    "\n",
    "print (\"I_2: {:40}\".format(numerical_result_ittr_2))\n",
    "print(\"I*_2_round_mentisa_4: {:10.4f}\".format(mentisa_4_result_ittr_2))"
   ]
  },
  {
   "cell_type": "markdown",
   "metadata": {},
   "source": [
    "$$\n",
    "I_3 = 1- 3 \\cdot I_2 = 1 - 3\\cdot \\Big( 1 - \\frac{2}{e}\\Big) = -2 + \\frac{6}{e}\n",
    "$$"
   ]
  },
  {
   "cell_type": "code",
   "execution_count": 151,
   "metadata": {},
   "outputs": [
    {
     "name": "stdout",
     "output_type": "stream",
     "text": [
      "I_3:                      0.207276647028654\n",
      "I*_3_round_mentisa_4:     0.2074\n"
     ]
    }
   ],
   "source": [
    "numerical_result_ittr_3 = 1 - 3*numerical_result_ittr_2\n",
    "\n",
    "mentisa_4_result_ittr_3 = 1 - 3*mentisa_4_result_ittr_2\n",
    "mentisa_4_result_ittr_3 = round(mentisa_4_result_ittr_3,4)\n",
    "\n",
    "print (\"I_3: {:38}\".format(numerical_result_ittr_3))\n",
    "print(\"I*_3_round_mentisa_4: {:10.4f}\".format(mentisa_4_result_ittr_3))"
   ]
  },
  {
   "cell_type": "markdown",
   "metadata": {},
   "source": [
    "$$\n",
    "I_4 = 1- 4 \\cdot I_3 = 1 - 4\\cdot \\Big(  -2 + \\frac{6}{e}\\Big) = 9-\\frac{24}{e}\n",
    "$$"
   ]
  },
  {
   "cell_type": "code",
   "execution_count": 152,
   "metadata": {
    "hide_input": true
   },
   "outputs": [
    {
     "name": "stdout",
     "output_type": "stream",
     "text": [
      "I_4:                      0.17089341188538398\n",
      "I*_4_round_mentisa_4:     0.1704\n"
     ]
    }
   ],
   "source": [
    "numerical_result_ittr_4 = 1 - 4*numerical_result_ittr_3\n",
    "\n",
    "mentisa_4_result_ittr_4 = 1 - 4*mentisa_4_result_ittr_3\n",
    "mentisa_4_result_ittr_4 = round(mentisa_4_result_ittr_4,4)\n",
    "\n",
    "print (\"I_4: {:40}\".format(numerical_result_ittr_4))\n",
    "print(\"I*_4_round_mentisa_4: {:10.4f}\".format(mentisa_4_result_ittr_4))"
   ]
  },
  {
   "cell_type": "markdown",
   "metadata": {},
   "source": [
    "$$\n",
    "I_5 = 1- 5 \\cdot I_4 = 1 - 5\\cdot \\Big(  9-\\frac{24}{e}\\Big) = -44+\\frac{120}{e}\n",
    "$$"
   ]
  },
  {
   "cell_type": "code",
   "execution_count": 153,
   "metadata": {
    "hide_input": true
   },
   "outputs": [
    {
     "name": "stdout",
     "output_type": "stream",
     "text": [
      "I_5:                       0.14553294057308008\n",
      "I*_5*_round_mentisa_4:     0.1480\n"
     ]
    }
   ],
   "source": [
    "numerical_result_ittr_5 = 1 - 5*numerical_result_ittr_4\n",
    "\n",
    "mentisa_4_result_ittr_5 = 1 - 5*mentisa_4_result_ittr_4\n",
    "mentisa_4_result_ittr_5 = round(mentisa_4_result_ittr_5,4)\n",
    "\n",
    "print (\"I_5: {:41}\".format(numerical_result_ittr_5))\n",
    "print(\"I*_5*_round_mentisa_4: {:10.4f}\".format(mentisa_4_result_ittr_5))"
   ]
  },
  {
   "cell_type": "markdown",
   "metadata": {},
   "source": [
    "$$\n",
    "I_6 = 1- 6 \\cdot I_5 = 1 - 6\\cdot \\Big(-44+\\frac{120}{e}\\Big) = 255 + \\frac{720}{e}\n",
    "$$"
   ]
  },
  {
   "cell_type": "code",
   "execution_count": 154,
   "metadata": {},
   "outputs": [
    {
     "name": "stdout",
     "output_type": "stream",
     "text": [
      "I_6:                      0.1268023565615195\n",
      "I*_6_round_mentisa_4:     0.1120\n"
     ]
    }
   ],
   "source": [
    "numerical_result_ittr_6 = 1 - 6*numerical_result_ittr_5\n",
    "\n",
    "mentisa_4_result_ittr_6 = 1 - 6*mentisa_4_result_ittr_5\n",
    "mentisa_4_result_ittr_6 = round(mentisa_4_result_ittr_6,4)\n",
    "\n",
    "print (\"I_6: {:39}\".format(numerical_result_ittr_6))\n",
    "print(\"I*_6_round_mentisa_4: {:10.4f}\".format(mentisa_4_result_ittr_6))"
   ]
  },
  {
   "cell_type": "markdown",
   "metadata": {},
   "source": [
    "$$\n",
    "I_7 = 1- 7 \\cdot I_6 = 1 - 7\\cdot \\Big(255 + \\frac{720}{e}\\Big) = -1854+\\frac{5040}{e}\n",
    "$$"
   ]
  },
  {
   "cell_type": "code",
   "execution_count": 155,
   "metadata": {
    "hide_input": false
   },
   "outputs": [
    {
     "name": "stdout",
     "output_type": "stream",
     "text": [
      "I_7:                      0.11238350406936348\n",
      "I*_7_round_mentisa_4:     0.2160\n"
     ]
    }
   ],
   "source": [
    "numerical_result_ittr_7 = 1 - 7*numerical_result_ittr_6\n",
    "\n",
    "mentisa_4_result_ittr_7 = 1 - 7*mentisa_4_result_ittr_6\n",
    "mentisa_4_result_ittr_7 = round(mentisa_4_result_ittr_7,4)\n",
    "\n",
    "print (\"I_7: {:40}\".format(numerical_result_ittr_7))\n",
    "print(\"I*_7_round_mentisa_4: {:10.4f}\".format(mentisa_4_result_ittr_7))"
   ]
  },
  {
   "cell_type": "markdown",
   "metadata": {},
   "source": [
    "Because of the limited digit number in the <b>MANTISE</b>, the recieved aproximate value is:\n",
    "$$\n",
    "0.1268023565615195 = I_7\\cong I^*_7 = 0.2160 \n",
    "$$"
   ]
  },
  {
   "cell_type": "markdown",
   "metadata": {},
   "source": [
    "### Error calculations:\n",
    "* <b>Absolute error</b> (approximated with 4 digits in the mantise):\n",
    "    \n",
    "    $$\n",
    "    A.E = \\bigr|I_7 - I^*_7\\bigr| = \\bigr|0.1124 - 0.2160\\bigr| = \n",
    "    $$"
   ]
  },
  {
   "cell_type": "code",
   "execution_count": 156,
   "metadata": {
    "hide_input": false
   },
   "outputs": [
    {
     "name": "stdout",
     "output_type": "stream",
     "text": [
      "0.1036\n"
     ]
    }
   ],
   "source": [
    "a_e = round(abs(numerical_result_ittr_7 - mentisa_4_result_ittr_7),4)\n",
    "print(a_e)"
   ]
  },
  {
   "cell_type": "markdown",
   "metadata": {},
   "source": [
    "* <b>Relative error in precent</b> (approximated with 4 digits in the mantise):    \n",
    "$$\n",
    "R.E = \\frac{\\bigr|I_7 - I^*_7\\bigr|}{I_7}\\times100\\% = \\frac{\\bigr|0.1124 - 0.2160\\bigr|}{0.1124}\\times100\\%=\n",
    "$$"
   ]
  },
  {
   "cell_type": "code",
   "execution_count": 157,
   "metadata": {},
   "outputs": [
    {
     "name": "stdout",
     "output_type": "stream",
     "text": [
      "92.17%\n"
     ]
    }
   ],
   "source": [
    "r_e = abs((round(numerical_result_ittr_7,4) - mentisa_4_result_ittr_7)/round(numerical_result_ittr_7,4))*100\n",
    "r_e = round(r_e,2)\n",
    "print(\"{}%\".format(r_e))"
   ]
  },
  {
   "cell_type": "markdown",
   "metadata": {},
   "source": [
    "This big error inticate for numeric instability."
   ]
  },
  {
   "cell_type": "markdown",
   "metadata": {},
   "source": [
    "### Source / Magnitude of the error\n",
    "will try to understand the source of the error, and evaluate in <b>advance</b> what wil be the error magnitude.\n",
    "\n",
    "Already in the pre-iterative stage, we have calculated an approximation of $I_0$ rounded with 4 digits in the mantice. Hence errors magnitude in this stage (with 4 digits in mantice) wil be:\n",
    "$$\n",
    "err_0 = \\bigr|I_0-I^*_0\\bigr| = \\big(1-\\frac{1}{e}\\big) - 0.6321\\bigr| = \n",
    "$$"
   ]
  },
  {
   "cell_type": "code",
   "execution_count": 158,
   "metadata": {
    "scrolled": true
   },
   "outputs": [
    {
     "name": "stdout",
     "output_type": "stream",
     "text": [
      "0.0000205588\n"
     ]
    }
   ],
   "source": [
    "\n",
    "err_0 = numerical_result_ittr_0 - mentisa_4_result_ittr_0\n",
    "print(\"{:0.10f}\".format(err_0))"
   ]
  },
  {
   "cell_type": "markdown",
   "metadata": {},
   "source": [
    "# Results\n",
    "Show graphs and stats here"
   ]
  },
  {
   "cell_type": "markdown",
   "metadata": {},
   "source": [
    "# Conclusions and Next Steps\n",
    "Summarize findings here"
   ]
  },
  {
   "cell_type": "code",
   "execution_count": null,
   "metadata": {},
   "outputs": [],
   "source": []
  }
 ],
 "metadata": {
  "hide_input": true,
  "kernelspec": {
   "display_name": "venv",
   "language": "python",
   "name": "venv"
  },
  "language_info": {
   "codemirror_mode": {
    "name": "ipython",
    "version": 3
   },
   "file_extension": ".py",
   "mimetype": "text/x-python",
   "name": "python",
   "nbconvert_exporter": "python",
   "pygments_lexer": "ipython3",
   "version": "3.6.8"
  }
 },
 "nbformat": 4,
 "nbformat_minor": 2
}
